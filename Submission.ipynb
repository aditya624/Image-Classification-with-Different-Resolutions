{
  "nbformat": 4,
  "nbformat_minor": 0,
  "metadata": {
    "colab": {
      "name": "Submission.ipynb",
      "provenance": [],
      "collapsed_sections": [
        "eHMfxdR4SRWY",
        "dS2AXGn4Se8C",
        "0yWWe6O3S9RC",
        "3H1kQ2wSrGmx"
      ]
    },
    "kernelspec": {
      "name": "python3",
      "display_name": "Python 3"
    }
  },
  "cells": [
    {
      "cell_type": "markdown",
      "metadata": {
        "id": "4egRVKqWQwOQ",
        "colab_type": "text"
      },
      "source": [
        "# Image Classification \n",
        "### Dalam submission ini saya akan klasifikasi gambar. Klasifikasi di bagi menjadi 3 kelas yaitu gambar anjing, kucing dan laba-laba. \n",
        "### Beberapa gambaran dari proses dan hasil dalam submission ini yaitu,\n",
        "1. Dataset memiliki 12000 sampel.\n",
        "2. Data memiliki 3 kelas.\n",
        "3. Model menggunakan Conv2D Maxpooling Layer.\n",
        "4. Menggunakan model sequential.\n",
        "5. Dataset dibagi menjadi 80% train set dan 20% test set.\n",
        "6. Menulis kode untuk menyimpan model ke dalam format TF-Lite.\n",
        "7. Mengimplementasikan callback.\n",
        "8. Membuat plot loss dan akurasi.\n",
        "9. Mengimplementasikan teknik diluar modul.\n",
        "10. Akurasi dari model mencapai 92%."
      ]
    },
    {
      "cell_type": "markdown",
      "metadata": {
        "id": "Go4ZVtCDSA8N",
        "colab_type": "text"
      },
      "source": [
        "## 1. Download Dataset kemudian ekstrak.\n",
        "Sebelum mendownload dataset. kita setting terlebih dahulu kaggle api nya."
      ]
    },
    {
      "cell_type": "code",
      "metadata": {
        "id": "Ucdr2LtCA4fR",
        "colab_type": "code",
        "colab": {}
      },
      "source": [
        "import os\n",
        "os.environ['KAGGLE_CONFIG_DIR'] = 'drive/My Drive/Pengembangan-ML/Submission_Final'"
      ],
      "execution_count": null,
      "outputs": []
    },
    {
      "cell_type": "code",
      "metadata": {
        "id": "-OCXy56d6FIx",
        "colab_type": "code",
        "colab": {}
      },
      "source": [
        "! kaggle datasets download --force -d tongpython/cat-and-dog -p \"drive/My Drive/Pengembangan-ML/Submission_Final/dataset\""
      ],
      "execution_count": null,
      "outputs": []
    },
    {
      "cell_type": "code",
      "metadata": {
        "id": "oH-MPdJnKcx2",
        "colab_type": "code",
        "colab": {}
      },
      "source": [
        "def unzip_dataset(dir):\n",
        "  zip_ref = zipfile.ZipFile(dir, 'r')\n",
        "  zip_ref.extractall('drive/My Drive/Pengembangan-ML/Submission_Final/dataset')\n",
        "  zip_ref.close()"
      ],
      "execution_count": null,
      "outputs": []
    },
    {
      "cell_type": "code",
      "metadata": {
        "id": "gLyi1nwDmByl",
        "colab_type": "code",
        "colab": {}
      },
      "source": [
        "import zipfile\n",
        "dir = 'drive/My Drive/Pengembangan-ML/Submission_Final/dataset/cat-and-dog.zip'\n",
        "unzip_dataset(dir)"
      ],
      "execution_count": null,
      "outputs": []
    },
    {
      "cell_type": "code",
      "metadata": {
        "id": "oJq5A_ryhU1w",
        "colab_type": "code",
        "colab": {}
      },
      "source": [
        "! kaggle datasets download --force -d kdnishanth/animal-classification -p \"drive/My Drive/Pengembangan-ML/Submission_Final/dataset\"\n"
      ],
      "execution_count": null,
      "outputs": []
    },
    {
      "cell_type": "code",
      "metadata": {
        "id": "wKSLWl7uQth9",
        "colab_type": "code",
        "colab": {}
      },
      "source": [
        "dir = 'drive/My Drive/Pengembangan-ML/Submission_Final/dataset/animal-classification.zip'\n",
        "unzip_dataset(dir)"
      ],
      "execution_count": null,
      "outputs": []
    },
    {
      "cell_type": "code",
      "metadata": {
        "id": "6IIfEiBNslPE",
        "colab_type": "code",
        "colab": {}
      },
      "source": [
        "import shutil"
      ],
      "execution_count": null,
      "outputs": []
    },
    {
      "cell_type": "code",
      "metadata": {
        "id": "hHE8Gpzos9wR",
        "colab_type": "code",
        "colab": {}
      },
      "source": [
        "original = r'drive/My Drive/Pengembangan-ML/Submission_Final/dataset/spyder/spyder'\n",
        "target = r'drive/My Drive/Pengembangan-ML/Submission_Final/dataset/train'\n",
        "shutil.move(original,target)"
      ],
      "execution_count": null,
      "outputs": []
    },
    {
      "cell_type": "code",
      "metadata": {
        "id": "va3F8dDJrksa",
        "colab_type": "code",
        "colab": {}
      },
      "source": [
        "original = r'drive/My Drive/Pengembangan-ML/Submission_Final/dataset/training_set/training_set/cats'\n",
        "target = r'drive/My Drive/Pengembangan-ML/Submission_Final/dataset/train'\n",
        "shutil.move(original,target)\n",
        "\n",
        "original = r'drive/My Drive/Pengembangan-ML/Submission_Final/dataset/training_set/training_set/dogs'\n",
        "target = r'drive/My Drive/Pengembangan-ML/Submission_Final/dataset/train'\n",
        "shutil.move(original,target)"
      ],
      "execution_count": null,
      "outputs": []
    },
    {
      "cell_type": "markdown",
      "metadata": {
        "id": "eHMfxdR4SRWY",
        "colab_type": "text"
      },
      "source": [
        "## 2. Import library"
      ]
    },
    {
      "cell_type": "code",
      "metadata": {
        "id": "UIHqOdmXwkYE",
        "colab_type": "code",
        "colab": {}
      },
      "source": [
        "import zipfile\n",
        "import os\n",
        "import tensorflow as tf\n",
        "from tensorflow.keras.optimizers import RMSprop\n",
        "from tensorflow.keras.preprocessing.image import ImageDataGenerator\n",
        "\n",
        "base_dir = 'drive/My Drive/Pengembangan-ML/Submission_Final/dataset'\n",
        "train_dir = os.path.join(base_dir,'train')"
      ],
      "execution_count": 1,
      "outputs": []
    },
    {
      "cell_type": "markdown",
      "metadata": {
        "id": "dS2AXGn4Se8C",
        "colab_type": "text"
      },
      "source": [
        "## 3. Check distribusi dari data."
      ]
    },
    {
      "cell_type": "code",
      "metadata": {
        "id": "M42Ei7O_l8S6",
        "colab_type": "code",
        "colab": {
          "base_uri": "https://localhost:8080/",
          "height": 34
        },
        "outputId": "62e648bb-381d-45bd-8c6a-9399be467d4a"
      },
      "source": [
        "train_image_list = os.listdir(train_dir)\n",
        "print(train_image_list)"
      ],
      "execution_count": 2,
      "outputs": [
        {
          "output_type": "stream",
          "text": [
            "['cats', 'dogs', 'spyder']\n"
          ],
          "name": "stdout"
        }
      ]
    },
    {
      "cell_type": "code",
      "metadata": {
        "id": "cj536YP3mRpc",
        "colab_type": "code",
        "colab": {}
      },
      "source": [
        "dogs = len([name for name in os.listdir(train_dir + '/dogs') if os.path.isfile(os.path.join(train_dir + '/dogs', name))])\n",
        "cats = len([name for name in os.listdir(train_dir + '/cats') if os.path.isfile(os.path.join(train_dir + '/cats', name))])\n",
        "spyder = len([name for name in os.listdir(train_dir + '/spyder') if os.path.isfile(os.path.join(train_dir + '/spyder', name))])"
      ],
      "execution_count": 3,
      "outputs": []
    },
    {
      "cell_type": "code",
      "metadata": {
        "id": "8GyUL4whn6DM",
        "colab_type": "code",
        "colab": {
          "base_uri": "https://localhost:8080/",
          "height": 354
        },
        "outputId": "b7c0fbbc-9434-46fe-eb40-be7cad2d775c"
      },
      "source": [
        "import matplotlib.pyplot as plt\n",
        "plt.figure(figsize=(15,5))\n",
        "plt.bar(train_image_list, [cats, dogs, spyder], color = ['red', 'green', 'blue'])\n",
        "plt.xlabel('Class')\n",
        "plt.title('Distribusi Data',\n",
        "          fontsize=20);"
      ],
      "execution_count": 4,
      "outputs": [
        {
          "output_type": "display_data",
          "data": {
            "image/png": "[encoded data removed]",
            "text/plain": [
              "<Figure size 1080x360 with 1 Axes>"
            ]
          },
          "metadata": {
            "tags": [],
            "needs_background": "light"
          }
        }
      ]
    },
    {
      "cell_type": "markdown",
      "metadata": {
        "id": "0yWWe6O3S9RC",
        "colab_type": "text"
      },
      "source": [
        "## 4. Membagi data training dan Validation\n",
        "Pada bagian ini validasi data yaitu sebesar 20 % dari total data."
      ]
    },
    {
      "cell_type": "code",
      "metadata": {
        "id": "zLDwS7nH50fU",
        "colab_type": "code",
        "colab": {}
      },
      "source": [
        "train_datagen = ImageDataGenerator(\n",
        "                    rescale=1./255,\n",
        "                    rotation_range=20,\n",
        "                    horizontal_flip=True,\n",
        "                    vertical_flip=True,\n",
        "                    shear_range = 0.2,\n",
        "                    fill_mode = 'nearest',\n",
        "                    validation_split=0.2) #Membagi data train dan validasi sebesar 80 dan 20 persen."
      ],
      "execution_count": 5,
      "outputs": []
    },
    {
      "cell_type": "code",
      "metadata": {
        "id": "iL6P-biU67Bu",
        "colab_type": "code",
        "colab": {
          "base_uri": "https://localhost:8080/",
          "height": 52
        },
        "outputId": "067613ee-1961-4d79-ee69-d0ad078e401f"
      },
      "source": [
        "train_generator = train_datagen.flow_from_directory(\n",
        "        train_dir,  \n",
        "        target_size=(150, 150),  \n",
        "        batch_size=4,\n",
        "        class_mode='categorical',\n",
        "        subset='training')\n",
        " \n",
        "validation_generator = train_datagen.flow_from_directory(\n",
        "        train_dir, \n",
        "        target_size=(150, 150), \n",
        "        batch_size=4, \n",
        "        class_mode='categorical',\n",
        "        subset='validation') "
      ],
      "execution_count": 6,
      "outputs": [
        {
          "output_type": "stream",
          "text": [
            "Found 10261 images belonging to 3 classes.\n",
            "Found 2565 images belonging to 3 classes.\n"
          ],
          "name": "stdout"
        }
      ]
    },
    {
      "cell_type": "markdown",
      "metadata": {
        "id": "6zQmWUcpTOrg",
        "colab_type": "text"
      },
      "source": [
        "## 5. Menampilkan resolusi gambar.\n",
        "### Disini yang di cek hanya 100 dari masing-masing class sehingga total yg di cek 300 dari 12000 data gambar. Diharapkan sudah dapat mewakili seluruh gambar bahwa resolusi dari setiap gambar berbeda-beda."
      ]
    },
    {
      "cell_type": "code",
      "metadata": {
        "id": "0Jr7NWHXYrZX",
        "colab_type": "code",
        "colab": {}
      },
      "source": [
        "import os\n",
        "from PIL import Image\n",
        "def get_resolution(folder_images, size_images, i = 0):\n",
        "  for dirpath, _, filenames in os.walk(folder_images):\n",
        "      for path_image in filenames:\n",
        "          image = os.path.abspath(os.path.join(dirpath, path_image))\n",
        "          with Image.open(image) as img:\n",
        "              width, heigth = img.size\n",
        "              if i < 100:\n",
        "                size_images.append(width * heigth)\n",
        "                i = i + 1\n",
        "              else:\n",
        "                break"
      ],
      "execution_count": 7,
      "outputs": []
    },
    {
      "cell_type": "code",
      "metadata": {
        "id": "zt0CU0oMm-Nl",
        "colab_type": "code",
        "colab": {}
      },
      "source": [
        "size_images = []\n",
        "get_resolution(os.path.join(train_dir,'dogs'), size_images)\n",
        "get_resolution(os.path.join(train_dir,'cats'), size_images)\n",
        "get_resolution(os.path.join(train_dir,'spyder'), size_images)"
      ],
      "execution_count": null,
      "outputs": []
    },
    {
      "cell_type": "code",
      "metadata": {
        "id": "1qKW32cwYV-d",
        "colab_type": "code",
        "colab": {
          "base_uri": "https://localhost:8080/",
          "height": 354
        },
        "outputId": "b81227a5-7a7d-46d5-ad03-3cabe66dd645"
      },
      "source": [
        "plt.figure(figsize=(15,5))\n",
        "plt.plot(size_images)\n",
        "plt.xlabel('Gambar ke')\n",
        "plt.title('Resolusi Gambar',\n",
        "          fontsize=20);"
      ],
      "execution_count": null,
      "outputs": [
        {
          "output_type": "display_data",
          "data": {
            "image/png": "[encoded data removed]",
            "text/plain": [
              "<Figure size 1080x360 with 1 Axes>"
            ]
          },
          "metadata": {
            "tags": [],
            "needs_background": "light"
          }
        }
      ]
    },
    {
      "cell_type": "markdown",
      "metadata": {
        "id": "7BPJSvp_ZveC",
        "colab_type": "text"
      },
      "source": [
        "## 6. Create Model Sequential\n",
        "Pada bagian ini disematkan transfer learning ResNet serta di implementasikan Conv2D dan MaxPooling2D layer."
      ]
    },
    {
      "cell_type": "code",
      "metadata": {
        "id": "WSxd-PrOSGqt",
        "colab_type": "code",
        "colab": {}
      },
      "source": [
        "import tensorflow as tf\n",
        "from tensorflow.keras.layers import Input\n",
        "from tensorflow.keras.applications import ResNet50\n",
        "from tensorflow.keras.applications import ResNet152V2\n",
        "\n",
        "def create_model():\n",
        "  return tf.keras.models.Sequential([\n",
        "    ResNet152V2(weights=\"imagenet\", include_top=False, input_tensor=Input(shape=(150, 150, 3))),\n",
        "    tf.keras.layers.Conv2D(64, (3,3), activation='relu'),\n",
        "    tf.keras.layers.MaxPooling2D(2,2),\n",
        "    tf.keras.layers.Flatten(), \n",
        "    tf.keras.layers.Dense(512, activation='relu'),\n",
        "    tf.keras.layers.Dense(256, activation='relu'),\n",
        "    tf.keras.layers.Dense(3, activation='softmax')\n",
        "  ])\n",
        "  model.layers[0].trainable = False"
      ],
      "execution_count": 8,
      "outputs": []
    },
    {
      "cell_type": "markdown",
      "metadata": {
        "id": "3H1kQ2wSrGmx",
        "colab_type": "text"
      },
      "source": [
        "## 7. Callback\n",
        "salah satu callback yg digunakan adalah ketika akurasi mencapai 92%.\n",
        "Selain itu callback untuk menampilkan plot menggunakan tensorboard juga di gunakan."
      ]
    },
    {
      "cell_type": "code",
      "metadata": {
        "id": "GXL3a7bhT7Ix",
        "colab_type": "code",
        "colab": {}
      },
      "source": [
        "class myCallback(tf.keras.callbacks.Callback):\n",
        "  def on_epoch_end(self, epoch, logs={}):\n",
        "    if(logs.get('accuracy') > 0.92 and logs.get('val_accuracy') > 0.92):\n",
        "      print(\"accuracy trainning dan validasi diatas  92%!\")\n",
        "      self.model.stop_training = True\n",
        "callbacks = myCallback()"
      ],
      "execution_count": 9,
      "outputs": []
    },
    {
      "cell_type": "code",
      "metadata": {
        "id": "kowiDq4SUu2U",
        "colab_type": "code",
        "colab": {}
      },
      "source": [
        "import datetime, os\n",
        "import time\n",
        "%load_ext tensorboard"
      ],
      "execution_count": 10,
      "outputs": []
    },
    {
      "cell_type": "markdown",
      "metadata": {
        "id": "2FxdPmqYrc0O",
        "colab_type": "text"
      },
      "source": [
        "## 8. Training Model"
      ]
    },
    {
      "cell_type": "code",
      "metadata": {
        "id": "wlRiwWpGS8YH",
        "colab_type": "code",
        "colab": {
          "base_uri": "https://localhost:8080/",
          "height": 407
        },
        "outputId": "94f8f0da-f0c5-4377-b8f1-daf76b3869c6"
      },
      "source": [
        "start = time.time()\n",
        "\n",
        "model = create_model()\n",
        "model.compile(loss='mse',\n",
        "            optimizer=tf.optimizers.SGD(),\n",
        "            metrics=['accuracy'])\n",
        "\n",
        "logdir = os.path.join(base_dir + \"/logs\", datetime.datetime.now().strftime(\"%Y%m%d-%H%M%S\"))\n",
        "tensorboard_callback = tf.keras.callbacks.TensorBoard(log_dir=logdir, histogram_freq=1)\n",
        "\n",
        "history = model.fit(train_generator,\n",
        "                    validation_data=validation_generator,\n",
        "                    epochs=1000,\n",
        "                    callbacks=[callbacks, tensorboard_callback], \n",
        "                    steps_per_epoch = 500, \n",
        "                    # validation_steps = 1\n",
        "                    )\n",
        "\n",
        "finish = time.time() - start\n",
        "durasi = time.strftime(\"%H:%M:%S\", time.gmtime(finish))\n",
        "print('Lama pelatihan %s menit' %(durasi))"
      ],
      "execution_count": 12,
      "outputs": [
        {
          "output_type": "stream",
          "text": [
            "Epoch 1/1000\n",
            "500/500 [==============================] - 2283s 5s/step - loss: 0.1052 - accuracy: 0.7675 - val_loss: 0.0663 - val_accuracy: 0.8651\n",
            "Epoch 2/1000\n",
            "500/500 [==============================] - 2294s 5s/step - loss: 0.0708 - accuracy: 0.8460 - val_loss: 0.0662 - val_accuracy: 0.8550\n",
            "Epoch 3/1000\n",
            "500/500 [==============================] - 2315s 5s/step - loss: 0.0616 - accuracy: 0.8750 - val_loss: 0.0451 - val_accuracy: 0.9060\n",
            "Epoch 4/1000\n",
            "500/500 [==============================] - 2429s 5s/step - loss: 0.0582 - accuracy: 0.8820 - val_loss: 0.0382 - val_accuracy: 0.9201\n",
            "Epoch 5/1000\n",
            "500/500 [==============================] - 2381s 5s/step - loss: 0.0492 - accuracy: 0.8995 - val_loss: 0.0372 - val_accuracy: 0.9251\n",
            "Epoch 6/1000\n",
            "500/500 [==============================] - 2421s 5s/step - loss: 0.0448 - accuracy: 0.9095 - val_loss: 0.0385 - val_accuracy: 0.9236\n",
            "Epoch 7/1000\n",
            "500/500 [==============================] - 2467s 5s/step - loss: 0.0405 - accuracy: 0.9180 - val_loss: 0.0362 - val_accuracy: 0.9279\n",
            "Epoch 8/1000\n",
            "500/500 [==============================] - 2424s 5s/step - loss: 0.0428 - accuracy: 0.9175 - val_loss: 0.0334 - val_accuracy: 0.9353\n",
            "Epoch 9/1000\n",
            "500/500 [==============================] - 2398s 5s/step - loss: 0.0397 - accuracy: 0.9180 - val_loss: 0.0314 - val_accuracy: 0.9404\n",
            "Epoch 10/1000\n",
            "500/500 [==============================] - ETA: 0s - loss: 0.0354 - accuracy: 0.9319accuracy trainning dan validasi diatas  92%!\n",
            "500/500 [==============================] - 2535s 5s/step - loss: 0.0354 - accuracy: 0.9319 - val_loss: 0.0333 - val_accuracy: 0.9345\n",
            "Lama pelatihan 06:40:10 menit\n"
          ],
          "name": "stdout"
        }
      ]
    },
    {
      "cell_type": "code",
      "metadata": {
        "id": "DrGzTQlIZCvS",
        "colab_type": "code",
        "colab": {
          "base_uri": "https://localhost:8080/",
          "height": 425
        },
        "outputId": "2893ca76-2221-420b-df8c-96457ec50074"
      },
      "source": [
        "print(model.summary())"
      ],
      "execution_count": 19,
      "outputs": [
        {
          "output_type": "stream",
          "text": [
            "Model: \"sequential_1\"\n",
            "_________________________________________________________________\n",
            "Layer (type)                 Output Shape              Param #   \n",
            "=================================================================\n",
            "resnet152v2 (Functional)     (None, 5, 5, 2048)        58331648  \n",
            "_________________________________________________________________\n",
            "conv2d_1 (Conv2D)            (None, 3, 3, 64)          1179712   \n",
            "_________________________________________________________________\n",
            "max_pooling2d_7 (MaxPooling2 (None, 1, 1, 64)          0         \n",
            "_________________________________________________________________\n",
            "flatten_1 (Flatten)          (None, 64)                0         \n",
            "_________________________________________________________________\n",
            "dense_3 (Dense)              (None, 512)               33280     \n",
            "_________________________________________________________________\n",
            "dense_4 (Dense)              (None, 256)               131328    \n",
            "_________________________________________________________________\n",
            "dense_5 (Dense)              (None, 3)                 771       \n",
            "=================================================================\n",
            "Total params: 59,676,739\n",
            "Trainable params: 59,532,995\n",
            "Non-trainable params: 143,744\n",
            "_________________________________________________________________\n",
            "None\n"
          ],
          "name": "stdout"
        }
      ]
    },
    {
      "cell_type": "markdown",
      "metadata": {
        "id": "ZwxSEaks3XER",
        "colab_type": "text"
      },
      "source": [
        "## 9. Konversi Model tflite"
      ]
    },
    {
      "cell_type": "code",
      "metadata": {
        "id": "flC05YD32VoZ",
        "colab_type": "code",
        "colab": {
          "base_uri": "https://localhost:8080/",
          "height": 161
        },
        "outputId": "5783bf26-f5bd-4d3e-f6ca-40dfdda9f687"
      },
      "source": [
        "# Konversi model.\n",
        "converter = tf.lite.TFLiteConverter.from_keras_model(model)\n",
        "tflite_model = converter.convert()\n",
        "with tf.io.gfile.GFile(base_dir + '/model.tflite', 'wb') as f:\n",
        "  f.write(tflite_model)"
      ],
      "execution_count": 13,
      "outputs": [
        {
          "output_type": "stream",
          "text": [
            "WARNING:tensorflow:From /usr/local/lib/python3.6/dist-packages/tensorflow/python/training/tracking/tracking.py:111: Model.state_updates (from tensorflow.python.keras.engine.training) is deprecated and will be removed in a future version.\n",
            "Instructions for updating:\n",
            "This property should not be used in TensorFlow 2.0, as updates are applied automatically.\n",
            "WARNING:tensorflow:From /usr/local/lib/python3.6/dist-packages/tensorflow/python/training/tracking/tracking.py:111: Layer.updates (from tensorflow.python.keras.engine.base_layer) is deprecated and will be removed in a future version.\n",
            "Instructions for updating:\n",
            "This property should not be used in TensorFlow 2.0, as updates are applied automatically.\n",
            "INFO:tensorflow:Assets written to: /tmp/tmp98_625a8/assets\n"
          ],
          "name": "stdout"
        }
      ]
    },
    {
      "cell_type": "markdown",
      "metadata": {
        "id": "i0L3oWGhr5OG",
        "colab_type": "text"
      },
      "source": [
        "# 10. Upload plot akurasi dan loss di tensorboard.dev\n",
        "Plot akurasi dan loss untuk membandingkan ketika training dan validation bisa di cek live pada tensorboard.dev agar ukuran notebook tidak terlalu besar. (mengikuti saran dari submission Time Series)"
      ]
    },
    {
      "cell_type": "code",
      "metadata": {
        "id": "iC-9YnSVENK3",
        "colab_type": "code",
        "colab": {
          "base_uri": "https://localhost:8080/",
          "height": 285
        },
        "outputId": "c66b66c4-4c61-4313-ae49-0a4c177b291d"
      },
      "source": [
        "! tensorboard dev upload --logdir '/content/drive/My Drive/Pengembangan-ML/Submission_Final/dataset/logs' \\\n",
        "    --name \"Submission Final\" \\\n",
        "    --description \"Last Submission From dicoding.com about image classification\""
      ],
      "execution_count": 18,
      "outputs": [
        {
          "output_type": "stream",
          "text": [
            "2020-09-10 09:27:53.138589: I tensorflow/stream_executor/platform/default/dso_loader.cc:48] Successfully opened dynamic library libcudart.so.10.1\n",
            "Data for the \"graphs\" plugin is now uploaded to TensorBoard.dev! Note that uploaded data is public. If you do not want to upload data for this plugin, use the \"--plugins\" command line argument.\n",
            "Data for the \"histograms\" plugin is now uploaded to TensorBoard.dev! Note that uploaded data is public. If you do not want to upload data for this plugin, use the \"--plugins\" command line argument.\n",
            "Data for the \"hparams\" plugin is now uploaded to TensorBoard.dev! Note that uploaded data is public. If you do not want to upload data for this plugin, use the \"--plugins\" command line argument.\n",
            "Upload started and will continue reading any new data as it's added\n",
            "to the logdir. To stop uploading, press Ctrl-C.\n",
            "\n",
            "View your TensorBoard live at: https://tensorboard.dev/experiment/kn9WwtjuQGiE5cqMo1tjUQ/\n",
            "\n",
            "\u001b[1m[2020-09-10T09:27:55]\u001b[0m Uploader started.\n",
            "\u001b[1m[2020-09-10T09:27:55]\u001b[0m Total uploaded: 20 scalars, 0 tensors, 0 binary objects\n",
            "\n",
            "Interrupted. View your TensorBoard at https://tensorboard.dev/experiment/kn9WwtjuQGiE5cqMo1tjUQ/\n",
            "^C\n"
          ],
          "name": "stdout"
        }
      ]
    },
    {
      "cell_type": "code",
      "metadata": {
        "id": "DeItlmasbSo8",
        "colab_type": "code",
        "colab": {}
      },
      "source": [
        ""
      ],
      "execution_count": null,
      "outputs": []
    }
  ]
}